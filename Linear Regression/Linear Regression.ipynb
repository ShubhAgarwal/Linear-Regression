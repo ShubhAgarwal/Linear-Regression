{
 "cells": [
  {
   "cell_type": "markdown",
   "metadata": {},
   "source": [
    "# Linear Regression"
   ]
  },
  {
   "cell_type": "code",
   "execution_count": 1,
   "metadata": {},
   "outputs": [],
   "source": [
    "import numpy as np\n",
    "import pandas as pd\n",
    "import matplotlib.pyplot as plt"
   ]
  },
  {
   "cell_type": "code",
   "execution_count": 2,
   "metadata": {},
   "outputs": [],
   "source": [
    "class LinearRegression():\n",
    "    \n",
    "    def __init__(self, variables=1):\n",
    "        self.weights = np.zeros((variables+1, 1))\n",
    "        \n",
    "    \n",
    "    def cost(self, X, y, n):\n",
    "        err = X.dot(self.weights)\n",
    "        err1 = y - err\n",
    "        err = err1.T @ err1\n",
    "        cost = err/(2*n)\n",
    "        return cost\n",
    "    \n",
    "    def deltaJTheta(self, X, Y):\n",
    "        m = X.shape[0]\n",
    "        err = np.dot(X, self.weights)\n",
    "        err1 = Y - err\n",
    "        mid = err1 * X\n",
    "        return (np.sum(mid, axis=0)/m).reshape((-1, 1))    \n",
    "        \n",
    "        \n",
    "    def gradientDescent(self, X, y, alpha, n):\n",
    "        delj = self.deltaJTheta(X, y)\n",
    "        self.weights += (alpha * delj)\n",
    "        \n",
    "        \n",
    "    def fit(self, X, y, epochs):\n",
    "        n = len(X)\n",
    "        for i in range(epochs):\n",
    "            self.gradientDescent(X, y, 0.01, n)\n",
    "            if(i%100 == 0):\n",
    "                print('Loss: ', self.cost(X, y, n))\n",
    "        \n",
    "        \n",
    "    def predict(self, X):\n",
    "        y = X.dot(self.weights)\n",
    "        return y\n",
    "    \n",
    "    \n",
    "    def printweights(self):\n",
    "        print(self.weights)\n",
    "        "
   ]
  },
  {
   "cell_type": "markdown",
   "metadata": {},
   "source": [
    "###  Simple Linear Regression"
   ]
  },
  {
   "cell_type": "code",
   "execution_count": 3,
   "metadata": {},
   "outputs": [],
   "source": [
    "data = pd.read_csv('ex1data1.txt', header=None)"
   ]
  },
  {
   "cell_type": "code",
   "execution_count": 4,
   "metadata": {},
   "outputs": [
    {
     "data": {
      "text/html": [
       "<div>\n",
       "<style scoped>\n",
       "    .dataframe tbody tr th:only-of-type {\n",
       "        vertical-align: middle;\n",
       "    }\n",
       "\n",
       "    .dataframe tbody tr th {\n",
       "        vertical-align: top;\n",
       "    }\n",
       "\n",
       "    .dataframe thead th {\n",
       "        text-align: right;\n",
       "    }\n",
       "</style>\n",
       "<table border=\"1\" class=\"dataframe\">\n",
       "  <thead>\n",
       "    <tr style=\"text-align: right;\">\n",
       "      <th></th>\n",
       "      <th>0</th>\n",
       "      <th>1</th>\n",
       "    </tr>\n",
       "  </thead>\n",
       "  <tbody>\n",
       "    <tr>\n",
       "      <th>0</th>\n",
       "      <td>6.1101</td>\n",
       "      <td>17.59200</td>\n",
       "    </tr>\n",
       "    <tr>\n",
       "      <th>1</th>\n",
       "      <td>5.5277</td>\n",
       "      <td>9.13020</td>\n",
       "    </tr>\n",
       "    <tr>\n",
       "      <th>2</th>\n",
       "      <td>8.5186</td>\n",
       "      <td>13.66200</td>\n",
       "    </tr>\n",
       "    <tr>\n",
       "      <th>3</th>\n",
       "      <td>7.0032</td>\n",
       "      <td>11.85400</td>\n",
       "    </tr>\n",
       "    <tr>\n",
       "      <th>4</th>\n",
       "      <td>5.8598</td>\n",
       "      <td>6.82330</td>\n",
       "    </tr>\n",
       "    <tr>\n",
       "      <th>...</th>\n",
       "      <td>...</td>\n",
       "      <td>...</td>\n",
       "    </tr>\n",
       "    <tr>\n",
       "      <th>92</th>\n",
       "      <td>5.8707</td>\n",
       "      <td>7.20290</td>\n",
       "    </tr>\n",
       "    <tr>\n",
       "      <th>93</th>\n",
       "      <td>5.3054</td>\n",
       "      <td>1.98690</td>\n",
       "    </tr>\n",
       "    <tr>\n",
       "      <th>94</th>\n",
       "      <td>8.2934</td>\n",
       "      <td>0.14454</td>\n",
       "    </tr>\n",
       "    <tr>\n",
       "      <th>95</th>\n",
       "      <td>13.3940</td>\n",
       "      <td>9.05510</td>\n",
       "    </tr>\n",
       "    <tr>\n",
       "      <th>96</th>\n",
       "      <td>5.4369</td>\n",
       "      <td>0.61705</td>\n",
       "    </tr>\n",
       "  </tbody>\n",
       "</table>\n",
       "<p>97 rows × 2 columns</p>\n",
       "</div>"
      ],
      "text/plain": [
       "          0         1\n",
       "0    6.1101  17.59200\n",
       "1    5.5277   9.13020\n",
       "2    8.5186  13.66200\n",
       "3    7.0032  11.85400\n",
       "4    5.8598   6.82330\n",
       "..      ...       ...\n",
       "92   5.8707   7.20290\n",
       "93   5.3054   1.98690\n",
       "94   8.2934   0.14454\n",
       "95  13.3940   9.05510\n",
       "96   5.4369   0.61705\n",
       "\n",
       "[97 rows x 2 columns]"
      ]
     },
     "execution_count": 4,
     "metadata": {},
     "output_type": "execute_result"
    }
   ],
   "source": [
    "data"
   ]
  },
  {
   "cell_type": "code",
   "execution_count": 5,
   "metadata": {},
   "outputs": [],
   "source": [
    "x = data[0].to_numpy().reshape((-1,1))\n",
    "x = np.insert(x, 0, 1, axis=1)"
   ]
  },
  {
   "cell_type": "code",
   "execution_count": 6,
   "metadata": {},
   "outputs": [],
   "source": [
    "y = data[1].to_numpy().reshape((-1,1))"
   ]
  },
  {
   "cell_type": "code",
   "execution_count": 31,
   "metadata": {},
   "outputs": [
    {
     "data": {
      "image/png": "[encoded data removed]",
      "text/plain": [
       "<Figure size 432x288 with 1 Axes>"
      ]
     },
     "metadata": {
      "needs_background": "light"
     },
     "output_type": "display_data"
    }
   ],
   "source": [
    "plt.plot(data[0], data[1], 'r+')\n",
    "plt.show()"
   ]
  },
  {
   "cell_type": "code",
   "execution_count": 18,
   "metadata": {},
   "outputs": [
    {
     "name": "stdout",
     "output_type": "stream",
     "text": [
      "Loss:  [[6.73719046]]\n",
      "Loss:  [[5.47636282]]\n",
      "Loss:  [[5.17363455]]\n",
      "Loss:  [[4.96260649]]\n",
      "Loss:  [[4.81550149]]\n",
      "Loss:  [[4.71295645]]\n",
      "Loss:  [[4.6414736]]\n",
      "Loss:  [[4.5916438]]\n",
      "Loss:  [[4.55690808]]\n",
      "Loss:  [[4.53269424]]\n",
      "Loss:  [[4.51581508]]\n",
      "Loss:  [[4.50404884]]\n",
      "Loss:  [[4.49584673]]\n",
      "Loss:  [[4.49012915]]\n",
      "Loss:  [[4.48614349]]\n"
     ]
    }
   ],
   "source": [
    "lin_reg = LinearRegression()\n",
    "\n",
    "epochs = 1500\n",
    "lin_reg.fit(x, y, epochs)"
   ]
  },
  {
   "cell_type": "code",
   "execution_count": 19,
   "metadata": {},
   "outputs": [
    {
     "name": "stdout",
     "output_type": "stream",
     "text": [
      "[[-3.63029144]\n",
      " [ 1.16636235]]\n"
     ]
    }
   ],
   "source": [
    "lin_reg.printweights()"
   ]
  },
  {
   "cell_type": "code",
   "execution_count": 20,
   "metadata": {},
   "outputs": [],
   "source": [
    "predicted_y = lin_reg.predict(x)"
   ]
  },
  {
   "cell_type": "code",
   "execution_count": 30,
   "metadata": {},
   "outputs": [
    {
     "data": {
      "image/png": "[encoded data removed]",
      "text/plain": [
       "<Figure size 432x288 with 1 Axes>"
      ]
     },
     "metadata": {
      "needs_background": "light"
     },
     "output_type": "display_data"
    }
   ],
   "source": [
    "plt.plot(data[0], data[1], 'r+')\n",
    "plt.plot(data[0], predicted_y)\n",
    "plt.show()"
   ]
  },
  {
   "cell_type": "markdown",
   "metadata": {},
   "source": [
    "### Multiple Linear Regression"
   ]
  },
  {
   "cell_type": "code",
   "execution_count": 146,
   "metadata": {},
   "outputs": [],
   "source": [
    "X1 = np.random.normal(20, 5, 100).reshape(-1,1)\n",
    "X2 = np.random.normal(77, 3.2, 100).reshape(-1,1)"
   ]
  },
  {
   "cell_type": "code",
   "execution_count": 147,
   "metadata": {},
   "outputs": [],
   "source": [
    "X = np.append(X1, X2, axis=1)"
   ]
  },
  {
   "cell_type": "code",
   "execution_count": 148,
   "metadata": {},
   "outputs": [],
   "source": [
    "theta = np.array([[2],[3],[1]])"
   ]
  },
  {
   "cell_type": "code",
   "execution_count": 149,
   "metadata": {},
   "outputs": [
    {
     "data": {
      "text/plain": [
       "array([[2],\n",
       "       [3],\n",
       "       [1]])"
      ]
     },
     "execution_count": 149,
     "metadata": {},
     "output_type": "execute_result"
    }
   ],
   "source": [
    "theta"
   ]
  },
  {
   "cell_type": "code",
   "execution_count": 150,
   "metadata": {},
   "outputs": [],
   "source": [
    "Noise = np.random.rand(100, 1)"
   ]
  },
  {
   "cell_type": "code",
   "execution_count": 151,
   "metadata": {},
   "outputs": [
    {
     "data": {
      "text/plain": [
       "(100, 2)"
      ]
     },
     "execution_count": 151,
     "metadata": {},
     "output_type": "execute_result"
    }
   ],
   "source": [
    "X.shape"
   ]
  },
  {
   "cell_type": "code",
   "execution_count": 156,
   "metadata": {},
   "outputs": [],
   "source": [
    "X[:, 0] = (X[:, 0]- 20)/5\n",
    "X[:, 1] = (X[:, 1]-77)/3.2"
   ]
  },
  {
   "cell_type": "code",
   "execution_count": 158,
   "metadata": {},
   "outputs": [],
   "source": [
    "X = np.append(np.ones((100, 1)), X, axis=1)"
   ]
  },
  {
   "cell_type": "markdown",
   "metadata": {},
   "source": [
    "####  Output with Noise"
   ]
  },
  {
   "cell_type": "code",
   "execution_count": 163,
   "metadata": {},
   "outputs": [],
   "source": [
    "y = X.dot(theta) + Noise"
   ]
  },
  {
   "cell_type": "code",
   "execution_count": 166,
   "metadata": {
    "collapsed": true
   },
   "outputs": [
    {
     "name": "stdout",
     "output_type": "stream",
     "text": [
      "Loss:  [[8.40675208]]\n",
      "Loss:  [[7.97922713]]\n",
      "Loss:  [[7.57389256]]\n",
      "Loss:  [[7.1895793]]\n",
      "Loss:  [[6.82518077]]\n",
      "Loss:  [[6.47964948]]\n",
      "Loss:  [[6.15199385]]\n",
      "Loss:  [[5.84127515]]\n",
      "Loss:  [[5.54660469]]\n",
      "Loss:  [[5.26714108]]\n",
      "Loss:  [[5.0020877]]\n",
      "Loss:  [[4.75069027]]\n",
      "Loss:  [[4.51223456]]\n",
      "Loss:  [[4.28604427]]\n",
      "Loss:  [[4.07147895]]\n",
      "Loss:  [[3.86793208]]\n",
      "Loss:  [[3.67482928]]\n",
      "Loss:  [[3.49162654]]\n",
      "Loss:  [[3.3178086]]\n",
      "Loss:  [[3.15288743]]\n",
      "Loss:  [[2.99640075]]\n",
      "Loss:  [[2.84791066]]\n",
      "Loss:  [[2.70700235]]\n",
      "Loss:  [[2.57328282]]\n",
      "Loss:  [[2.44637977]]\n",
      "Loss:  [[2.32594047]]\n",
      "Loss:  [[2.2116307]]\n",
      "Loss:  [[2.10313381]]\n",
      "Loss:  [[2.00014971]]\n",
      "Loss:  [[1.90239408]]\n",
      "Loss:  [[1.80959746]]\n",
      "Loss:  [[1.7215045]]\n",
      "Loss:  [[1.63787318]]\n",
      "Loss:  [[1.55847414]]\n",
      "Loss:  [[1.48308997]]\n",
      "Loss:  [[1.41151462]]\n",
      "Loss:  [[1.34355274]]\n",
      "Loss:  [[1.27901919]]\n",
      "Loss:  [[1.21773843]]\n",
      "Loss:  [[1.15954407]]\n",
      "Loss:  [[1.10427832]]\n",
      "Loss:  [[1.05179163]]\n",
      "Loss:  [[1.00194215]]\n",
      "Loss:  [[0.95459543]]\n",
      "Loss:  [[0.90962394]]\n",
      "Loss:  [[0.86690676]]\n",
      "Loss:  [[0.82632922]]\n",
      "Loss:  [[0.78778257]]\n",
      "Loss:  [[0.75116367]]\n",
      "Loss:  [[0.7163747]]\n",
      "Loss:  [[0.68332288]]\n",
      "Loss:  [[0.65192018]]\n",
      "Loss:  [[0.62208314]]\n",
      "Loss:  [[0.59373255]]\n",
      "Loss:  [[0.5667933]]\n",
      "Loss:  [[0.5411941]]\n",
      "Loss:  [[0.51686733]]\n",
      "Loss:  [[0.49374884]]\n",
      "Loss:  [[0.47177775]]\n",
      "Loss:  [[0.4508963]]\n",
      "Loss:  [[0.43104969]]\n",
      "Loss:  [[0.41218589]]\n",
      "Loss:  [[0.39425554]]\n",
      "Loss:  [[0.37721181]]\n",
      "Loss:  [[0.36101024]]\n",
      "Loss:  [[0.34560862]]\n",
      "Loss:  [[0.33096691]]\n",
      "Loss:  [[0.31704709]]\n",
      "Loss:  [[0.30381307]]\n",
      "Loss:  [[0.2912306]]\n",
      "Loss:  [[0.27926716]]\n",
      "Loss:  [[0.26789188]]\n",
      "Loss:  [[0.25707544]]\n",
      "Loss:  [[0.24679001]]\n",
      "Loss:  [[0.23700917]]\n",
      "Loss:  [[0.22770783]]\n",
      "Loss:  [[0.21886217]]\n",
      "Loss:  [[0.21044955]]\n",
      "Loss:  [[0.20244851]]\n",
      "Loss:  [[0.19483863]]\n",
      "Loss:  [[0.18760055]]\n",
      "Loss:  [[0.18071584]]\n",
      "Loss:  [[0.17416704]]\n",
      "Loss:  [[0.16793754]]\n",
      "Loss:  [[0.16201156]]\n",
      "Loss:  [[0.15637414]]\n",
      "Loss:  [[0.15101103]]\n",
      "Loss:  [[0.14590873]]\n",
      "Loss:  [[0.14105437]]\n",
      "Loss:  [[0.13643576]]\n",
      "Loss:  [[0.13204132]]\n",
      "Loss:  [[0.12786001]]\n",
      "Loss:  [[0.12388137]]\n",
      "Loss:  [[0.12009546]]\n",
      "Loss:  [[0.11649283]]\n",
      "Loss:  [[0.11306449]]\n",
      "Loss:  [[0.1098019]]\n",
      "Loss:  [[0.10669696]]\n",
      "Loss:  [[0.10374196]]\n",
      "Loss:  [[0.10092957]]\n"
     ]
    }
   ],
   "source": [
    "linear_reg = LinearRegression(2)\n",
    "\n",
    "epochs = 10000\n",
    "linear_reg.fit(X, y, epochs)"
   ]
  },
  {
   "cell_type": "code",
   "execution_count": 167,
   "metadata": {
    "scrolled": false
   },
   "outputs": [
    {
     "name": "stdout",
     "output_type": "stream",
     "text": [
      "[[2.21935526]\n",
      " [2.83872583]\n",
      " [0.86536607]]\n"
     ]
    }
   ],
   "source": [
    "linear_reg.printweights()"
   ]
  },
  {
   "cell_type": "markdown",
   "metadata": {},
   "source": [
    "#### Output without Noise"
   ]
  },
  {
   "cell_type": "code",
   "execution_count": 160,
   "metadata": {},
   "outputs": [],
   "source": [
    "y_new = X.dot(theta)"
   ]
  },
  {
   "cell_type": "code",
   "execution_count": 161,
   "metadata": {
    "collapsed": true
   },
   "outputs": [
    {
     "name": "stdout",
     "output_type": "stream",
     "text": [
      "Loss:  [[7.40466261]]\n",
      "Loss:  [[7.01682344]]\n",
      "Loss:  [[6.64961854]]\n",
      "Loss:  [[6.30193357]]\n",
      "Loss:  [[5.9727152]]\n",
      "Loss:  [[5.66096775]]\n",
      "Loss:  [[5.36574999]]\n",
      "Loss:  [[5.08617211]]\n",
      "Loss:  [[4.8213929]]\n",
      "Loss:  [[4.57061703]]\n",
      "Loss:  [[4.33309254]]\n",
      "Loss:  [[4.10810843]]\n",
      "Loss:  [[3.89499241]]\n",
      "Loss:  [[3.69310873]]\n",
      "Loss:  [[3.50185623]]\n",
      "Loss:  [[3.32066638]]\n",
      "Loss:  [[3.14900149]]\n",
      "Loss:  [[2.98635304]]\n",
      "Loss:  [[2.83224006]]\n",
      "Loss:  [[2.68620761]]\n",
      "Loss:  [[2.54782538]]\n",
      "Loss:  [[2.41668629]]\n",
      "Loss:  [[2.29240526]]\n",
      "Loss:  [[2.174618]]\n",
      "Loss:  [[2.06297985]]\n",
      "Loss:  [[1.95716472]]\n",
      "Loss:  [[1.85686408]]\n",
      "Loss:  [[1.761786]]\n",
      "Loss:  [[1.67165423]]\n",
      "Loss:  [[1.58620736]]\n",
      "Loss:  [[1.50519801]]\n",
      "Loss:  [[1.42839205]]\n",
      "Loss:  [[1.35556792]]\n",
      "Loss:  [[1.2865159]]\n",
      "Loss:  [[1.22103748]]\n",
      "Loss:  [[1.15894478]]\n",
      "Loss:  [[1.10005993]]\n",
      "Loss:  [[1.04421456]]\n",
      "Loss:  [[0.99124929]]\n",
      "Loss:  [[0.94101319]]\n",
      "Loss:  [[0.89336339]]\n",
      "Loss:  [[0.84816462]]\n",
      "Loss:  [[0.80528879]]\n",
      "Loss:  [[0.7646146]]\n",
      "Loss:  [[0.72602718]]\n",
      "Loss:  [[0.68941778]]\n",
      "Loss:  [[0.65468337]]\n",
      "Loss:  [[0.62172639]]\n",
      "Loss:  [[0.59045444]]\n",
      "Loss:  [[0.56077998]]\n",
      "Loss:  [[0.53262012]]\n",
      "Loss:  [[0.5058963]]\n",
      "Loss:  [[0.48053414]]\n",
      "Loss:  [[0.45646314]]\n",
      "Loss:  [[0.43361653]]\n",
      "Loss:  [[0.41193105]]\n",
      "Loss:  [[0.39134673]]\n",
      "Loss:  [[0.37180679]]\n",
      "Loss:  [[0.35325739]]\n",
      "Loss:  [[0.33564752]]\n",
      "Loss:  [[0.31892885]]\n",
      "Loss:  [[0.30305557]]\n",
      "Loss:  [[0.28798424]]\n",
      "Loss:  [[0.27367373]]\n",
      "Loss:  [[0.26008501]]\n",
      "Loss:  [[0.24718111]]\n",
      "Loss:  [[0.23492699]]\n",
      "Loss:  [[0.2232894]]\n",
      "Loss:  [[0.21223685]]\n",
      "Loss:  [[0.20173947]]\n",
      "Loss:  [[0.19176893]]\n",
      "Loss:  [[0.1822984]]\n",
      "Loss:  [[0.1733024]]\n",
      "Loss:  [[0.16475679]]\n",
      "Loss:  [[0.15663868]]\n",
      "Loss:  [[0.14892636]]\n",
      "Loss:  [[0.14159922]]\n",
      "Loss:  [[0.13463774]]\n",
      "Loss:  [[0.12802339]]\n",
      "Loss:  [[0.1217386]]\n",
      "Loss:  [[0.1157667]]\n",
      "Loss:  [[0.11009188]]\n",
      "Loss:  [[0.10469914]]\n",
      "Loss:  [[0.09957424]]\n",
      "Loss:  [[0.09470369]]\n",
      "Loss:  [[0.09007466]]\n",
      "Loss:  [[0.08567502]]\n",
      "Loss:  [[0.08149322]]\n",
      "Loss:  [[0.07751831]]\n",
      "Loss:  [[0.07373991]]\n",
      "Loss:  [[0.07014817]]\n",
      "Loss:  [[0.06673373]]\n",
      "Loss:  [[0.0634877]]\n",
      "Loss:  [[0.06040166]]\n",
      "Loss:  [[0.05746762]]\n",
      "Loss:  [[0.05467797]]\n",
      "Loss:  [[0.05202551]]\n",
      "Loss:  [[0.0495034]]\n",
      "Loss:  [[0.04710514]]\n",
      "Loss:  [[0.04482457]]\n",
      "Loss:  [[0.04265581]]\n",
      "Loss:  [[0.04059333]]\n",
      "Loss:  [[0.03863183]]\n",
      "Loss:  [[0.03676631]]\n",
      "Loss:  [[0.03499199]]\n",
      "Loss:  [[0.03330437]]\n",
      "Loss:  [[0.03169915]]\n",
      "Loss:  [[0.03017225]]\n",
      "Loss:  [[0.02871979]]\n",
      "Loss:  [[0.0273381]]\n",
      "Loss:  [[0.02602369]]\n",
      "Loss:  [[0.02477323]]\n",
      "Loss:  [[0.02358357]]\n",
      "Loss:  [[0.02245171]]\n",
      "Loss:  [[0.02137482]]\n",
      "Loss:  [[0.02035018]]\n",
      "Loss:  [[0.01937523]]\n",
      "Loss:  [[0.01844753]]\n",
      "Loss:  [[0.01756475]]\n",
      "Loss:  [[0.0167247]]\n",
      "Loss:  [[0.01592528]]\n",
      "Loss:  [[0.0151645]]\n",
      "Loss:  [[0.01444047]]\n",
      "Loss:  [[0.01375139]]\n",
      "Loss:  [[0.01309555]]\n",
      "Loss:  [[0.01247133]]\n",
      "Loss:  [[0.01187719]]\n",
      "Loss:  [[0.01131166]]\n",
      "Loss:  [[0.01077334]]\n",
      "Loss:  [[0.01026091]]\n",
      "Loss:  [[0.00977311]]\n",
      "Loss:  [[0.00930875]]\n",
      "Loss:  [[0.00886668]]\n",
      "Loss:  [[0.00844581]]\n",
      "Loss:  [[0.00804513]]\n",
      "Loss:  [[0.00766365]]\n",
      "Loss:  [[0.00730044]]\n",
      "Loss:  [[0.00695461]]\n",
      "Loss:  [[0.00662533]]\n",
      "Loss:  [[0.0063118]]\n",
      "Loss:  [[0.00601324]]\n",
      "Loss:  [[0.00572895]]\n",
      "Loss:  [[0.00545822]]\n",
      "Loss:  [[0.00520041]]\n",
      "Loss:  [[0.00495489]]\n",
      "Loss:  [[0.00472107]]\n",
      "Loss:  [[0.00449839]]\n",
      "Loss:  [[0.00428631]]\n",
      "Loss:  [[0.00408432]]\n",
      "Loss:  [[0.00389193]]\n",
      "Loss:  [[0.00370869]]\n",
      "Loss:  [[0.00353415]]\n",
      "Loss:  [[0.0033679]]\n",
      "Loss:  [[0.00320953]]\n",
      "Loss:  [[0.00305868]]\n",
      "Loss:  [[0.00291498]]\n",
      "Loss:  [[0.00277809]]\n",
      "Loss:  [[0.00264768]]\n",
      "Loss:  [[0.00252345]]\n",
      "Loss:  [[0.00240509]]\n",
      "Loss:  [[0.00229233]]\n",
      "Loss:  [[0.0021849]]\n",
      "Loss:  [[0.00208255]]\n",
      "Loss:  [[0.00198502]]\n",
      "Loss:  [[0.00189211]]\n",
      "Loss:  [[0.00180357]]\n",
      "Loss:  [[0.00171921]]\n",
      "Loss:  [[0.00163883]]\n",
      "Loss:  [[0.00156223]]\n",
      "Loss:  [[0.00148925]]\n",
      "Loss:  [[0.00141969]]\n",
      "Loss:  [[0.00135341]]\n",
      "Loss:  [[0.00129025]]\n",
      "Loss:  [[0.00123006]]\n",
      "Loss:  [[0.00117269]]\n",
      "Loss:  [[0.00111802]]\n",
      "Loss:  [[0.00106592]]\n",
      "Loss:  [[0.00101626]]\n",
      "Loss:  [[0.00096893]]\n",
      "Loss:  [[0.00092383]]\n",
      "Loss:  [[0.00088083]]\n",
      "Loss:  [[0.00083985]]\n",
      "Loss:  [[0.00080079]]\n",
      "Loss:  [[0.00076356]]\n",
      "Loss:  [[0.00072807]]\n",
      "Loss:  [[0.00069424]]\n",
      "Loss:  [[0.000662]]\n",
      "Loss:  [[0.00063126]]\n",
      "Loss:  [[0.00060195]]\n",
      "Loss:  [[0.00057402]]\n",
      "Loss:  [[0.00054739]]\n",
      "Loss:  [[0.000522]]\n",
      "Loss:  [[0.0004978]]\n",
      "Loss:  [[0.00047473]]\n",
      "Loss:  [[0.00045273]]\n",
      "Loss:  [[0.00043176]]\n",
      "Loss:  [[0.00041176]]\n",
      "Loss:  [[0.0003927]]\n",
      "Loss:  [[0.00037453]]\n",
      "Loss:  [[0.0003572]]\n"
     ]
    }
   ],
   "source": [
    "new_linear_reg = LinearRegression(2)\n",
    "\n",
    "epochs = 20000\n",
    "new_linear_reg.fit(X, y_new, epochs)"
   ]
  },
  {
   "cell_type": "code",
   "execution_count": 162,
   "metadata": {},
   "outputs": [
    {
     "name": "stdout",
     "output_type": "stream",
     "text": [
      "[[1.97726632]\n",
      " [2.98932206]\n",
      " [0.99038385]]\n"
     ]
    }
   ],
   "source": [
    "new_linear_reg.printweights()"
   ]
  },
  {
   "cell_type": "code",
   "execution_count": null,
   "metadata": {},
   "outputs": [],
   "source": []
  }
 ],
 "metadata": {
  "kernelspec": {
   "display_name": "Python 3",
   "language": "python",
   "name": "python3"
  },
  "language_info": {
   "codemirror_mode": {
    "name": "ipython",
    "version": 3
   },
   "file_extension": ".py",
   "mimetype": "text/x-python",
   "name": "python",
   "nbconvert_exporter": "python",
   "pygments_lexer": "ipython3",
   "version": "3.7.5"
  }
 },
 "nbformat": 4,
 "nbformat_minor": 2
}
